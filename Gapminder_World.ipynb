{
 "cells": [
  {
   "cell_type": "markdown",
   "id": "6b6eb74d",
   "metadata": {},
   "source": [
    "# Dataset on population and income by country over years"
   ]
  },
  {
   "cell_type": "markdown",
   "id": "299be597",
   "metadata": {},
   "source": [
    "## Table of Contents\n",
    "<ul>\n",
    "<li><a href=\"#intro\">Introduction</a></li>\n",
    "<li><a href=\"#wrangling\">Data Wrangling</a></li>\n",
    "<li><a href=\"#eda\">Exploratory Data Analysis</a></li>\n",
    "<li><a href=\"#conclusions\">Conclusions</a></li>\n",
    "</ul>"
   ]
  },
  {
   "cell_type": "markdown",
   "id": "eaeb4702",
   "metadata": {},
   "source": [
    "<a id='intro'></a>\n",
    "## Introduction"
   ]
  },
  {
   "cell_type": "markdown",
   "id": "b280a0cc",
   "metadata": {},
   "source": [
    "In this project, I analyze a dataset and then communicate my findings about it.  \n",
    "I use the Python libraries NumPy, pandas, and Matplotlib.The data was downloaded from [Gapminder](https://www.google.com/url?q=http://www.gapminder.org/data/&sa=D&ust=1532469042121000) on 19/06/2021.  \n",
    "Here, I will be using 3 datasets for answering to the posed questions.\n"
   ]
  },
  {
   "cell_type": "markdown",
   "id": "5be767c7",
   "metadata": {},
   "source": [
    "### Questions  \n",
    "1.  Which are the countries with lower density of population and higher income per person over time?\n",
    "2.  Is there correlation between density of population and income per person?  \n",
    "3.  How much population of the plantet increased since 1950?\n"
   ]
  },
  {
   "cell_type": "markdown",
   "id": "c09d3c02",
   "metadata": {},
   "source": [
    "### List of datasets:\n",
    "1. Income per person (GDP/capita, PPP$ inflation-adjusted).  \n",
    "Description: Gross domestic product per person adjusted for differences in purchasing power (in international dollars, fixed 2011 prices, PPP based on 2011 ICP).  \n",
    "2. Population, total.  \n",
    "Description: Total population.  \n",
    "3. Population density (per square km).  \n",
    "Description: Average number of people on each square km of the land in the given country.\n"
   ]
  },
  {
   "cell_type": "code",
   "execution_count": 31,
   "id": "c9cc7dc7",
   "metadata": {},
   "outputs": [],
   "source": [
    "#import Python libraries\n",
    "\n",
    "import pandas as pd\n",
    "import numpy as np\n",
    "import matplotlib as mpl\n",
    "import matplotlib.pylab as plb\n",
    "import matplotlib.pyplot as plt\n",
    "import seaborn as sb\n",
    "from scipy.stats import skewnorm\n",
    "%matplotlib inline\n",
    "#make large numbers more readable\n",
    "pd.options.display.float_format = '{:.2f}'.format"
   ]
  },
  {
   "cell_type": "markdown",
   "id": "2b0738f5",
   "metadata": {},
   "source": [
    "<a id='wrangling'></a>\n",
    "### Data wrangling"
   ]
  },
  {
   "cell_type": "markdown",
   "id": "fb06bc77",
   "metadata": {},
   "source": [
    "Here we will be adjusting and cleaning the data for further explatoratoty analysis"
   ]
  },
  {
   "cell_type": "markdown",
   "id": "9c79b980",
   "metadata": {},
   "source": [
    "#### General properties"
   ]
  },
  {
   "cell_type": "code",
   "execution_count": 32,
   "id": "fdb739d8",
   "metadata": {},
   "outputs": [
    {
     "data": {
      "text/html": [
       "<div>\n",
       "<style scoped>\n",
       "    .dataframe tbody tr th:only-of-type {\n",
       "        vertical-align: middle;\n",
       "    }\n",
       "\n",
       "    .dataframe tbody tr th {\n",
       "        vertical-align: top;\n",
       "    }\n",
       "\n",
       "    .dataframe thead th {\n",
       "        text-align: right;\n",
       "    }\n",
       "</style>\n",
       "<table border=\"1\" class=\"dataframe\">\n",
       "  <thead>\n",
       "    <tr style=\"text-align: right;\">\n",
       "      <th></th>\n",
       "      <th>country</th>\n",
       "      <th>1800</th>\n",
       "      <th>1801</th>\n",
       "      <th>1802</th>\n",
       "      <th>1803</th>\n",
       "      <th>1804</th>\n",
       "      <th>1805</th>\n",
       "      <th>1806</th>\n",
       "      <th>1807</th>\n",
       "      <th>1808</th>\n",
       "      <th>...</th>\n",
       "      <th>2091</th>\n",
       "      <th>2092</th>\n",
       "      <th>2093</th>\n",
       "      <th>2094</th>\n",
       "      <th>2095</th>\n",
       "      <th>2096</th>\n",
       "      <th>2097</th>\n",
       "      <th>2098</th>\n",
       "      <th>2099</th>\n",
       "      <th>2100</th>\n",
       "    </tr>\n",
       "  </thead>\n",
       "  <tbody>\n",
       "    <tr>\n",
       "      <th>180</th>\n",
       "      <td>Tuvalu</td>\n",
       "      <td>2500</td>\n",
       "      <td>2500</td>\n",
       "      <td>2500</td>\n",
       "      <td>2500</td>\n",
       "      <td>2500</td>\n",
       "      <td>2500</td>\n",
       "      <td>2500</td>\n",
       "      <td>2500</td>\n",
       "      <td>2500</td>\n",
       "      <td>...</td>\n",
       "      <td>19.8k</td>\n",
       "      <td>19.8k</td>\n",
       "      <td>19.8k</td>\n",
       "      <td>19.9k</td>\n",
       "      <td>19.9k</td>\n",
       "      <td>19.9k</td>\n",
       "      <td>20k</td>\n",
       "      <td>20k</td>\n",
       "      <td>20k</td>\n",
       "      <td>20k</td>\n",
       "    </tr>\n",
       "    <tr>\n",
       "      <th>47</th>\n",
       "      <td>Denmark</td>\n",
       "      <td>1M</td>\n",
       "      <td>1.01M</td>\n",
       "      <td>1.01M</td>\n",
       "      <td>1.02M</td>\n",
       "      <td>1.03M</td>\n",
       "      <td>1.04M</td>\n",
       "      <td>1.04M</td>\n",
       "      <td>1.05M</td>\n",
       "      <td>1.06M</td>\n",
       "      <td>...</td>\n",
       "      <td>6.76M</td>\n",
       "      <td>6.77M</td>\n",
       "      <td>6.78M</td>\n",
       "      <td>6.79M</td>\n",
       "      <td>6.81M</td>\n",
       "      <td>6.82M</td>\n",
       "      <td>6.83M</td>\n",
       "      <td>6.85M</td>\n",
       "      <td>6.86M</td>\n",
       "      <td>6.87M</td>\n",
       "    </tr>\n",
       "    <tr>\n",
       "      <th>148</th>\n",
       "      <td>Romania</td>\n",
       "      <td>5.5M</td>\n",
       "      <td>5.54M</td>\n",
       "      <td>5.58M</td>\n",
       "      <td>5.63M</td>\n",
       "      <td>5.67M</td>\n",
       "      <td>5.71M</td>\n",
       "      <td>5.75M</td>\n",
       "      <td>5.8M</td>\n",
       "      <td>5.84M</td>\n",
       "      <td>...</td>\n",
       "      <td>12.5M</td>\n",
       "      <td>12.4M</td>\n",
       "      <td>12.3M</td>\n",
       "      <td>12.3M</td>\n",
       "      <td>12.2M</td>\n",
       "      <td>12.1M</td>\n",
       "      <td>12.1M</td>\n",
       "      <td>12M</td>\n",
       "      <td>11.9M</td>\n",
       "      <td>11.9M</td>\n",
       "    </tr>\n",
       "    <tr>\n",
       "      <th>146</th>\n",
       "      <td>Palestine</td>\n",
       "      <td>166k</td>\n",
       "      <td>166k</td>\n",
       "      <td>166k</td>\n",
       "      <td>166k</td>\n",
       "      <td>166k</td>\n",
       "      <td>166k</td>\n",
       "      <td>166k</td>\n",
       "      <td>166k</td>\n",
       "      <td>166k</td>\n",
       "      <td>...</td>\n",
       "      <td>12M</td>\n",
       "      <td>12.1M</td>\n",
       "      <td>12.1M</td>\n",
       "      <td>12.1M</td>\n",
       "      <td>12.2M</td>\n",
       "      <td>12.2M</td>\n",
       "      <td>12.2M</td>\n",
       "      <td>12.2M</td>\n",
       "      <td>12.3M</td>\n",
       "      <td>12.3M</td>\n",
       "    </tr>\n",
       "    <tr>\n",
       "      <th>161</th>\n",
       "      <td>South Sudan</td>\n",
       "      <td>1.03M</td>\n",
       "      <td>1.03M</td>\n",
       "      <td>1.03M</td>\n",
       "      <td>1.03M</td>\n",
       "      <td>1.03M</td>\n",
       "      <td>1.03M</td>\n",
       "      <td>1.04M</td>\n",
       "      <td>1.04M</td>\n",
       "      <td>1.04M</td>\n",
       "      <td>...</td>\n",
       "      <td>30.5M</td>\n",
       "      <td>30.6M</td>\n",
       "      <td>30.8M</td>\n",
       "      <td>30.9M</td>\n",
       "      <td>31.1M</td>\n",
       "      <td>31.2M</td>\n",
       "      <td>31.4M</td>\n",
       "      <td>31.5M</td>\n",
       "      <td>31.6M</td>\n",
       "      <td>31.7M</td>\n",
       "    </tr>\n",
       "  </tbody>\n",
       "</table>\n",
       "<p>5 rows × 302 columns</p>\n",
       "</div>"
      ],
      "text/plain": [
       "         country   1800   1801   1802   1803   1804   1805   1806   1807  \\\n",
       "180       Tuvalu   2500   2500   2500   2500   2500   2500   2500   2500   \n",
       "47       Denmark     1M  1.01M  1.01M  1.02M  1.03M  1.04M  1.04M  1.05M   \n",
       "148      Romania   5.5M  5.54M  5.58M  5.63M  5.67M  5.71M  5.75M   5.8M   \n",
       "146    Palestine   166k   166k   166k   166k   166k   166k   166k   166k   \n",
       "161  South Sudan  1.03M  1.03M  1.03M  1.03M  1.03M  1.03M  1.04M  1.04M   \n",
       "\n",
       "      1808  ...   2091   2092   2093   2094   2095   2096   2097   2098  \\\n",
       "180   2500  ...  19.8k  19.8k  19.8k  19.9k  19.9k  19.9k    20k    20k   \n",
       "47   1.06M  ...  6.76M  6.77M  6.78M  6.79M  6.81M  6.82M  6.83M  6.85M   \n",
       "148  5.84M  ...  12.5M  12.4M  12.3M  12.3M  12.2M  12.1M  12.1M    12M   \n",
       "146   166k  ...    12M  12.1M  12.1M  12.1M  12.2M  12.2M  12.2M  12.2M   \n",
       "161  1.04M  ...  30.5M  30.6M  30.8M  30.9M  31.1M  31.2M  31.4M  31.5M   \n",
       "\n",
       "      2099   2100  \n",
       "180    20k    20k  \n",
       "47   6.86M  6.87M  \n",
       "148  11.9M  11.9M  \n",
       "146  12.3M  12.3M  \n",
       "161  31.6M  31.7M  \n",
       "\n",
       "[5 rows x 302 columns]"
      ]
     },
     "execution_count": 32,
     "metadata": {},
     "output_type": "execute_result"
    }
   ],
   "source": [
    "#download data on total population\n",
    "pop = pd.read_csv('Data Analyst_project 1\\\\population_total.csv')\n",
    "#print sample 5 row of the dataset\n",
    "pop.sample(5)"
   ]
  },
  {
   "cell_type": "code",
   "execution_count": 33,
   "id": "71863781",
   "metadata": {},
   "outputs": [
    {
     "data": {
      "text/html": [
       "<div>\n",
       "<style scoped>\n",
       "    .dataframe tbody tr th:only-of-type {\n",
       "        vertical-align: middle;\n",
       "    }\n",
       "\n",
       "    .dataframe tbody tr th {\n",
       "        vertical-align: top;\n",
       "    }\n",
       "\n",
       "    .dataframe thead th {\n",
       "        text-align: right;\n",
       "    }\n",
       "</style>\n",
       "<table border=\"1\" class=\"dataframe\">\n",
       "  <thead>\n",
       "    <tr style=\"text-align: right;\">\n",
       "      <th></th>\n",
       "      <th>country</th>\n",
       "      <th>1950</th>\n",
       "      <th>1951</th>\n",
       "      <th>1952</th>\n",
       "      <th>1953</th>\n",
       "      <th>1954</th>\n",
       "      <th>1955</th>\n",
       "      <th>1956</th>\n",
       "      <th>1957</th>\n",
       "      <th>1958</th>\n",
       "      <th>...</th>\n",
       "      <th>2091</th>\n",
       "      <th>2092</th>\n",
       "      <th>2093</th>\n",
       "      <th>2094</th>\n",
       "      <th>2095</th>\n",
       "      <th>2096</th>\n",
       "      <th>2097</th>\n",
       "      <th>2098</th>\n",
       "      <th>2099</th>\n",
       "      <th>2100</th>\n",
       "    </tr>\n",
       "  </thead>\n",
       "  <tbody>\n",
       "    <tr>\n",
       "      <th>95</th>\n",
       "      <td>India</td>\n",
       "      <td>127</td>\n",
       "      <td>129</td>\n",
       "      <td>131</td>\n",
       "      <td>133</td>\n",
       "      <td>135</td>\n",
       "      <td>138</td>\n",
       "      <td>140</td>\n",
       "      <td>143</td>\n",
       "      <td>146</td>\n",
       "      <td>...</td>\n",
       "      <td>508</td>\n",
       "      <td>505</td>\n",
       "      <td>503</td>\n",
       "      <td>501</td>\n",
       "      <td>498</td>\n",
       "      <td>496</td>\n",
       "      <td>494</td>\n",
       "      <td>491</td>\n",
       "      <td>489</td>\n",
       "      <td>487</td>\n",
       "    </tr>\n",
       "    <tr>\n",
       "      <th>233</th>\n",
       "      <td>Zimbabwe</td>\n",
       "      <td>7.1</td>\n",
       "      <td>7.32</td>\n",
       "      <td>7.55</td>\n",
       "      <td>7.8</td>\n",
       "      <td>8.05</td>\n",
       "      <td>8.31</td>\n",
       "      <td>8.58</td>\n",
       "      <td>8.85</td>\n",
       "      <td>9.14</td>\n",
       "      <td>...</td>\n",
       "      <td>79.7</td>\n",
       "      <td>79.7</td>\n",
       "      <td>79.8</td>\n",
       "      <td>79.9</td>\n",
       "      <td>79.9</td>\n",
       "      <td>80</td>\n",
       "      <td>80</td>\n",
       "      <td>80</td>\n",
       "      <td>80</td>\n",
       "      <td>80</td>\n",
       "    </tr>\n",
       "    <tr>\n",
       "      <th>165</th>\n",
       "      <td>Palau</td>\n",
       "      <td>16.2</td>\n",
       "      <td>16.3</td>\n",
       "      <td>16.6</td>\n",
       "      <td>17</td>\n",
       "      <td>17.5</td>\n",
       "      <td>18.1</td>\n",
       "      <td>18.7</td>\n",
       "      <td>19.3</td>\n",
       "      <td>20</td>\n",
       "      <td>...</td>\n",
       "      <td>32.3</td>\n",
       "      <td>32.2</td>\n",
       "      <td>32</td>\n",
       "      <td>31.9</td>\n",
       "      <td>31.8</td>\n",
       "      <td>31.6</td>\n",
       "      <td>31.4</td>\n",
       "      <td>31.3</td>\n",
       "      <td>31.1</td>\n",
       "      <td>31</td>\n",
       "    </tr>\n",
       "    <tr>\n",
       "      <th>22</th>\n",
       "      <td>Bosnia and Herzegovina</td>\n",
       "      <td>52.2</td>\n",
       "      <td>53.2</td>\n",
       "      <td>54.2</td>\n",
       "      <td>55.3</td>\n",
       "      <td>56.4</td>\n",
       "      <td>57.6</td>\n",
       "      <td>58.7</td>\n",
       "      <td>59.8</td>\n",
       "      <td>60.9</td>\n",
       "      <td>...</td>\n",
       "      <td>35.1</td>\n",
       "      <td>34.8</td>\n",
       "      <td>34.4</td>\n",
       "      <td>34.1</td>\n",
       "      <td>33.7</td>\n",
       "      <td>33.4</td>\n",
       "      <td>33.1</td>\n",
       "      <td>32.8</td>\n",
       "      <td>32.5</td>\n",
       "      <td>32.2</td>\n",
       "    </tr>\n",
       "    <tr>\n",
       "      <th>226</th>\n",
       "      <td>Vietnam</td>\n",
       "      <td>80</td>\n",
       "      <td>81.8</td>\n",
       "      <td>83.8</td>\n",
       "      <td>85.9</td>\n",
       "      <td>88.3</td>\n",
       "      <td>90.8</td>\n",
       "      <td>93.4</td>\n",
       "      <td>96.2</td>\n",
       "      <td>99.2</td>\n",
       "      <td>...</td>\n",
       "      <td>324</td>\n",
       "      <td>323</td>\n",
       "      <td>322</td>\n",
       "      <td>321</td>\n",
       "      <td>320</td>\n",
       "      <td>319</td>\n",
       "      <td>317</td>\n",
       "      <td>316</td>\n",
       "      <td>315</td>\n",
       "      <td>314</td>\n",
       "    </tr>\n",
       "  </tbody>\n",
       "</table>\n",
       "<p>5 rows × 152 columns</p>\n",
       "</div>"
      ],
      "text/plain": [
       "                    country  1950  1951  1952  1953  1954  1955  1956  1957  \\\n",
       "95                    India   127   129   131   133   135   138   140   143   \n",
       "233                Zimbabwe   7.1  7.32  7.55   7.8  8.05  8.31  8.58  8.85   \n",
       "165                   Palau  16.2  16.3  16.6    17  17.5  18.1  18.7  19.3   \n",
       "22   Bosnia and Herzegovina  52.2  53.2  54.2  55.3  56.4  57.6  58.7  59.8   \n",
       "226                 Vietnam    80  81.8  83.8  85.9  88.3  90.8  93.4  96.2   \n",
       "\n",
       "     1958  ...  2091  2092  2093  2094  2095  2096  2097  2098  2099  2100  \n",
       "95    146  ...   508   505   503   501   498   496   494   491   489   487  \n",
       "233  9.14  ...  79.7  79.7  79.8  79.9  79.9    80    80    80    80    80  \n",
       "165    20  ...  32.3  32.2    32  31.9  31.8  31.6  31.4  31.3  31.1    31  \n",
       "22   60.9  ...  35.1  34.8  34.4  34.1  33.7  33.4  33.1  32.8  32.5  32.2  \n",
       "226  99.2  ...   324   323   322   321   320   319   317   316   315   314  \n",
       "\n",
       "[5 rows x 152 columns]"
      ]
     },
     "execution_count": 33,
     "metadata": {},
     "output_type": "execute_result"
    }
   ],
   "source": [
    "#download data on density of population\n",
    "den = pd.read_csv('Data Analyst_project 1\\\\population_density_per_square_km.csv')\n",
    "#print sample 5 row of the dataset\n",
    "den.sample(5)"
   ]
  },
  {
   "cell_type": "code",
   "execution_count": 34,
   "id": "454f23dd",
   "metadata": {},
   "outputs": [
    {
     "data": {
      "text/html": [
       "<div>\n",
       "<style scoped>\n",
       "    .dataframe tbody tr th:only-of-type {\n",
       "        vertical-align: middle;\n",
       "    }\n",
       "\n",
       "    .dataframe tbody tr th {\n",
       "        vertical-align: top;\n",
       "    }\n",
       "\n",
       "    .dataframe thead th {\n",
       "        text-align: right;\n",
       "    }\n",
       "</style>\n",
       "<table border=\"1\" class=\"dataframe\">\n",
       "  <thead>\n",
       "    <tr style=\"text-align: right;\">\n",
       "      <th></th>\n",
       "      <th>country</th>\n",
       "      <th>1800</th>\n",
       "      <th>1801</th>\n",
       "      <th>1802</th>\n",
       "      <th>1803</th>\n",
       "      <th>1804</th>\n",
       "      <th>1805</th>\n",
       "      <th>1806</th>\n",
       "      <th>1807</th>\n",
       "      <th>1808</th>\n",
       "      <th>...</th>\n",
       "      <th>2031</th>\n",
       "      <th>2032</th>\n",
       "      <th>2033</th>\n",
       "      <th>2034</th>\n",
       "      <th>2035</th>\n",
       "      <th>2036</th>\n",
       "      <th>2037</th>\n",
       "      <th>2038</th>\n",
       "      <th>2039</th>\n",
       "      <th>2040</th>\n",
       "    </tr>\n",
       "  </thead>\n",
       "  <tbody>\n",
       "    <tr>\n",
       "      <th>74</th>\n",
       "      <td>Croatia</td>\n",
       "      <td>1080</td>\n",
       "      <td>1090</td>\n",
       "      <td>1100</td>\n",
       "      <td>1110</td>\n",
       "      <td>1120</td>\n",
       "      <td>1130</td>\n",
       "      <td>1140</td>\n",
       "      <td>1150</td>\n",
       "      <td>1160</td>\n",
       "      <td>...</td>\n",
       "      <td>33.7k</td>\n",
       "      <td>34.4k</td>\n",
       "      <td>35.1k</td>\n",
       "      <td>35.8k</td>\n",
       "      <td>36.6k</td>\n",
       "      <td>37.3k</td>\n",
       "      <td>38.1k</td>\n",
       "      <td>38.8k</td>\n",
       "      <td>39.6k</td>\n",
       "      <td>40.4k</td>\n",
       "    </tr>\n",
       "    <tr>\n",
       "      <th>108</th>\n",
       "      <td>Moldova</td>\n",
       "      <td>621</td>\n",
       "      <td>621</td>\n",
       "      <td>621</td>\n",
       "      <td>621</td>\n",
       "      <td>621</td>\n",
       "      <td>621</td>\n",
       "      <td>622</td>\n",
       "      <td>622</td>\n",
       "      <td>622</td>\n",
       "      <td>...</td>\n",
       "      <td>10000</td>\n",
       "      <td>10.2k</td>\n",
       "      <td>10.4k</td>\n",
       "      <td>10.6k</td>\n",
       "      <td>10.9k</td>\n",
       "      <td>11.1k</td>\n",
       "      <td>11.3k</td>\n",
       "      <td>11.5k</td>\n",
       "      <td>11.8k</td>\n",
       "      <td>12k</td>\n",
       "    </tr>\n",
       "    <tr>\n",
       "      <th>20</th>\n",
       "      <td>Belarus</td>\n",
       "      <td>608</td>\n",
       "      <td>608</td>\n",
       "      <td>608</td>\n",
       "      <td>609</td>\n",
       "      <td>609</td>\n",
       "      <td>609</td>\n",
       "      <td>610</td>\n",
       "      <td>610</td>\n",
       "      <td>610</td>\n",
       "      <td>...</td>\n",
       "      <td>19.9k</td>\n",
       "      <td>20.3k</td>\n",
       "      <td>20.7k</td>\n",
       "      <td>21.1k</td>\n",
       "      <td>21.5k</td>\n",
       "      <td>22k</td>\n",
       "      <td>22.4k</td>\n",
       "      <td>22.9k</td>\n",
       "      <td>23.3k</td>\n",
       "      <td>23.8k</td>\n",
       "    </tr>\n",
       "    <tr>\n",
       "      <th>69</th>\n",
       "      <td>Grenada</td>\n",
       "      <td>959</td>\n",
       "      <td>959</td>\n",
       "      <td>959</td>\n",
       "      <td>959</td>\n",
       "      <td>959</td>\n",
       "      <td>959</td>\n",
       "      <td>959</td>\n",
       "      <td>960</td>\n",
       "      <td>960</td>\n",
       "      <td>...</td>\n",
       "      <td>18.9k</td>\n",
       "      <td>19.3k</td>\n",
       "      <td>19.7k</td>\n",
       "      <td>20.1k</td>\n",
       "      <td>20.5k</td>\n",
       "      <td>21k</td>\n",
       "      <td>21.4k</td>\n",
       "      <td>21.8k</td>\n",
       "      <td>22.3k</td>\n",
       "      <td>22.7k</td>\n",
       "    </tr>\n",
       "    <tr>\n",
       "      <th>90</th>\n",
       "      <td>Kyrgyz Republic</td>\n",
       "      <td>508</td>\n",
       "      <td>508</td>\n",
       "      <td>508</td>\n",
       "      <td>508</td>\n",
       "      <td>508</td>\n",
       "      <td>508</td>\n",
       "      <td>509</td>\n",
       "      <td>509</td>\n",
       "      <td>509</td>\n",
       "      <td>...</td>\n",
       "      <td>4240</td>\n",
       "      <td>4320</td>\n",
       "      <td>4410</td>\n",
       "      <td>4500</td>\n",
       "      <td>4590</td>\n",
       "      <td>4680</td>\n",
       "      <td>4780</td>\n",
       "      <td>4870</td>\n",
       "      <td>4970</td>\n",
       "      <td>5070</td>\n",
       "    </tr>\n",
       "  </tbody>\n",
       "</table>\n",
       "<p>5 rows × 242 columns</p>\n",
       "</div>"
      ],
      "text/plain": [
       "             country  1800  1801  1802  1803  1804  1805  1806  1807  1808  \\\n",
       "74           Croatia  1080  1090  1100  1110  1120  1130  1140  1150  1160   \n",
       "108          Moldova   621   621   621   621   621   621   622   622   622   \n",
       "20           Belarus   608   608   608   609   609   609   610   610   610   \n",
       "69           Grenada   959   959   959   959   959   959   959   960   960   \n",
       "90   Kyrgyz Republic   508   508   508   508   508   508   509   509   509   \n",
       "\n",
       "     ...   2031   2032   2033   2034   2035   2036   2037   2038   2039   2040  \n",
       "74   ...  33.7k  34.4k  35.1k  35.8k  36.6k  37.3k  38.1k  38.8k  39.6k  40.4k  \n",
       "108  ...  10000  10.2k  10.4k  10.6k  10.9k  11.1k  11.3k  11.5k  11.8k    12k  \n",
       "20   ...  19.9k  20.3k  20.7k  21.1k  21.5k    22k  22.4k  22.9k  23.3k  23.8k  \n",
       "69   ...  18.9k  19.3k  19.7k  20.1k  20.5k    21k  21.4k  21.8k  22.3k  22.7k  \n",
       "90   ...   4240   4320   4410   4500   4590   4680   4780   4870   4970   5070  \n",
       "\n",
       "[5 rows x 242 columns]"
      ]
     },
     "execution_count": 34,
     "metadata": {},
     "output_type": "execute_result"
    }
   ],
   "source": [
    "#download data on income per person\n",
    "inc = pd.read_csv('Data Analyst_project 1\\\\income_per_person_gdppercapita_ppp_inflation_adjusted.csv')\n",
    "#print sample 5 row of the dataset\n",
    "inc.sample(5)"
   ]
  },
  {
   "cell_type": "markdown",
   "id": "46efad6b",
   "metadata": {},
   "source": [
    "#### Data Cleaning"
   ]
  },
  {
   "cell_type": "markdown",
   "id": "cd3f5a66",
   "metadata": {},
   "source": [
    "First we need to reshape the datasets each variable make a column"
   ]
  },
  {
   "cell_type": "code",
   "execution_count": 35,
   "id": "6dad2a14",
   "metadata": {},
   "outputs": [
    {
     "data": {
      "text/html": [
       "<div>\n",
       "<style scoped>\n",
       "    .dataframe tbody tr th:only-of-type {\n",
       "        vertical-align: middle;\n",
       "    }\n",
       "\n",
       "    .dataframe tbody tr th {\n",
       "        vertical-align: top;\n",
       "    }\n",
       "\n",
       "    .dataframe thead th {\n",
       "        text-align: right;\n",
       "    }\n",
       "</style>\n",
       "<table border=\"1\" class=\"dataframe\">\n",
       "  <thead>\n",
       "    <tr style=\"text-align: right;\">\n",
       "      <th></th>\n",
       "      <th>country</th>\n",
       "      <th>year</th>\n",
       "      <th>population</th>\n",
       "    </tr>\n",
       "  </thead>\n",
       "  <tbody>\n",
       "    <tr>\n",
       "      <th>0</th>\n",
       "      <td>Afghanistan</td>\n",
       "      <td>1800</td>\n",
       "      <td>3.28M</td>\n",
       "    </tr>\n",
       "    <tr>\n",
       "      <th>1</th>\n",
       "      <td>Angola</td>\n",
       "      <td>1800</td>\n",
       "      <td>1.57M</td>\n",
       "    </tr>\n",
       "    <tr>\n",
       "      <th>2</th>\n",
       "      <td>Albania</td>\n",
       "      <td>1800</td>\n",
       "      <td>400k</td>\n",
       "    </tr>\n",
       "    <tr>\n",
       "      <th>3</th>\n",
       "      <td>Andorra</td>\n",
       "      <td>1800</td>\n",
       "      <td>2650</td>\n",
       "    </tr>\n",
       "    <tr>\n",
       "      <th>4</th>\n",
       "      <td>United Arab Emirates</td>\n",
       "      <td>1800</td>\n",
       "      <td>40.2k</td>\n",
       "    </tr>\n",
       "  </tbody>\n",
       "</table>\n",
       "</div>"
      ],
      "text/plain": [
       "                country  year population\n",
       "0           Afghanistan  1800      3.28M\n",
       "1                Angola  1800      1.57M\n",
       "2               Albania  1800       400k\n",
       "3               Andorra  1800       2650\n",
       "4  United Arab Emirates  1800      40.2k"
      ]
     },
     "execution_count": 35,
     "metadata": {},
     "output_type": "execute_result"
    }
   ],
   "source": [
    "#creation of two non-identifier columns: 'country' and 'year' leaving population into one column\n",
    "pop = pop.melt(id_vars = ['country'], var_name = ['year'], value_name = 'population')\n",
    "#display the reshaped table\n",
    "pop.head()"
   ]
  },
  {
   "cell_type": "code",
   "execution_count": 36,
   "id": "a2ed3c9e",
   "metadata": {},
   "outputs": [
    {
     "data": {
      "text/html": [
       "<div>\n",
       "<style scoped>\n",
       "    .dataframe tbody tr th:only-of-type {\n",
       "        vertical-align: middle;\n",
       "    }\n",
       "\n",
       "    .dataframe tbody tr th {\n",
       "        vertical-align: top;\n",
       "    }\n",
       "\n",
       "    .dataframe thead th {\n",
       "        text-align: right;\n",
       "    }\n",
       "</style>\n",
       "<table border=\"1\" class=\"dataframe\">\n",
       "  <thead>\n",
       "    <tr style=\"text-align: right;\">\n",
       "      <th></th>\n",
       "      <th>country</th>\n",
       "      <th>year</th>\n",
       "      <th>density</th>\n",
       "    </tr>\n",
       "  </thead>\n",
       "  <tbody>\n",
       "    <tr>\n",
       "      <th>0</th>\n",
       "      <td>Aruba</td>\n",
       "      <td>1950</td>\n",
       "      <td>211</td>\n",
       "    </tr>\n",
       "    <tr>\n",
       "      <th>1</th>\n",
       "      <td>Afghanistan</td>\n",
       "      <td>1950</td>\n",
       "      <td>11.9</td>\n",
       "    </tr>\n",
       "    <tr>\n",
       "      <th>2</th>\n",
       "      <td>Angola</td>\n",
       "      <td>1950</td>\n",
       "      <td>3.65</td>\n",
       "    </tr>\n",
       "    <tr>\n",
       "      <th>3</th>\n",
       "      <td>Anguilla</td>\n",
       "      <td>1950</td>\n",
       "      <td>56.9</td>\n",
       "    </tr>\n",
       "    <tr>\n",
       "      <th>4</th>\n",
       "      <td>Albania</td>\n",
       "      <td>1950</td>\n",
       "      <td>46.1</td>\n",
       "    </tr>\n",
       "  </tbody>\n",
       "</table>\n",
       "</div>"
      ],
      "text/plain": [
       "       country  year density\n",
       "0        Aruba  1950     211\n",
       "1  Afghanistan  1950    11.9\n",
       "2       Angola  1950    3.65\n",
       "3     Anguilla  1950    56.9\n",
       "4      Albania  1950    46.1"
      ]
     },
     "execution_count": 36,
     "metadata": {},
     "output_type": "execute_result"
    }
   ],
   "source": [
    "#creation of two non-identifier columns: 'country' and 'year' leaving population density into one column, change all NaN values with 0\n",
    "den = den.melt(id_vars = ['country'], var_name = ['year'], value_name = 'density').fillna(0)\n",
    "#display the reshaped table\n",
    "den.head()"
   ]
  },
  {
   "cell_type": "code",
   "execution_count": null,
   "id": "ddd5823c",
   "metadata": {},
   "outputs": [],
   "source": []
  },
  {
   "cell_type": "code",
   "execution_count": 37,
   "id": "bc189855",
   "metadata": {},
   "outputs": [
    {
     "data": {
      "text/html": [
       "<div>\n",
       "<style scoped>\n",
       "    .dataframe tbody tr th:only-of-type {\n",
       "        vertical-align: middle;\n",
       "    }\n",
       "\n",
       "    .dataframe tbody tr th {\n",
       "        vertical-align: top;\n",
       "    }\n",
       "\n",
       "    .dataframe thead th {\n",
       "        text-align: right;\n",
       "    }\n",
       "</style>\n",
       "<table border=\"1\" class=\"dataframe\">\n",
       "  <thead>\n",
       "    <tr style=\"text-align: right;\">\n",
       "      <th></th>\n",
       "      <th>country</th>\n",
       "      <th>year</th>\n",
       "      <th>income</th>\n",
       "    </tr>\n",
       "  </thead>\n",
       "  <tbody>\n",
       "    <tr>\n",
       "      <th>0</th>\n",
       "      <td>Afghanistan</td>\n",
       "      <td>1800</td>\n",
       "      <td>603</td>\n",
       "    </tr>\n",
       "    <tr>\n",
       "      <th>1</th>\n",
       "      <td>Angola</td>\n",
       "      <td>1800</td>\n",
       "      <td>618</td>\n",
       "    </tr>\n",
       "    <tr>\n",
       "      <th>2</th>\n",
       "      <td>Albania</td>\n",
       "      <td>1800</td>\n",
       "      <td>667</td>\n",
       "    </tr>\n",
       "    <tr>\n",
       "      <th>3</th>\n",
       "      <td>Andorra</td>\n",
       "      <td>1800</td>\n",
       "      <td>1200</td>\n",
       "    </tr>\n",
       "    <tr>\n",
       "      <th>4</th>\n",
       "      <td>United Arab Emirates</td>\n",
       "      <td>1800</td>\n",
       "      <td>998</td>\n",
       "    </tr>\n",
       "  </tbody>\n",
       "</table>\n",
       "</div>"
      ],
      "text/plain": [
       "                country  year income\n",
       "0           Afghanistan  1800    603\n",
       "1                Angola  1800    618\n",
       "2               Albania  1800    667\n",
       "3               Andorra  1800   1200\n",
       "4  United Arab Emirates  1800    998"
      ]
     },
     "execution_count": 37,
     "metadata": {},
     "output_type": "execute_result"
    }
   ],
   "source": [
    "#creation of two non-identifier columns: 'country' and 'year' leaving income into one column\n",
    "inc = inc.melt(id_vars = ['country'], var_name = ['year'], value_name = 'income')\n",
    "#check by displaying the result \n",
    "inc.head()"
   ]
  },
  {
   "cell_type": "markdown",
   "id": "f84ee7f4",
   "metadata": {},
   "source": [
    "After the individual datasets were reshaped, I merge them to have ability to analyse them from one dataset. I decided to use inner join, because I want to see the how the variables interact with one another."
   ]
  },
  {
   "cell_type": "code",
   "execution_count": 38,
   "id": "32eac705",
   "metadata": {},
   "outputs": [],
   "source": [
    "#join the tables into one dataset.\n",
    "merged = pd.merge(pop, den, how = 'inner', left_on = ['country', 'year'], right_on = ['country', 'year'])\n",
    "dataset = pd.merge(merged, inc, how = 'inner', left_on = ['country', 'year'], right_on = ['country', 'year'])"
   ]
  },
  {
   "cell_type": "code",
   "execution_count": 39,
   "id": "a504fe19",
   "metadata": {},
   "outputs": [
    {
     "data": {
      "text/html": [
       "<div>\n",
       "<style scoped>\n",
       "    .dataframe tbody tr th:only-of-type {\n",
       "        vertical-align: middle;\n",
       "    }\n",
       "\n",
       "    .dataframe tbody tr th {\n",
       "        vertical-align: top;\n",
       "    }\n",
       "\n",
       "    .dataframe thead th {\n",
       "        text-align: right;\n",
       "    }\n",
       "</style>\n",
       "<table border=\"1\" class=\"dataframe\">\n",
       "  <thead>\n",
       "    <tr style=\"text-align: right;\">\n",
       "      <th></th>\n",
       "      <th>country</th>\n",
       "      <th>year</th>\n",
       "      <th>population</th>\n",
       "      <th>density</th>\n",
       "      <th>income</th>\n",
       "    </tr>\n",
       "  </thead>\n",
       "  <tbody>\n",
       "    <tr>\n",
       "      <th>6886</th>\n",
       "      <td>United Kingdom</td>\n",
       "      <td>1985</td>\n",
       "      <td>56.4M</td>\n",
       "      <td>233</td>\n",
       "      <td>22.9k</td>\n",
       "    </tr>\n",
       "    <tr>\n",
       "      <th>15056</th>\n",
       "      <td>Cuba</td>\n",
       "      <td>2027</td>\n",
       "      <td>11.2M</td>\n",
       "      <td>105</td>\n",
       "      <td>10.1k</td>\n",
       "    </tr>\n",
       "    <tr>\n",
       "      <th>15342</th>\n",
       "      <td>New Zealand</td>\n",
       "      <td>2028</td>\n",
       "      <td>5.11M</td>\n",
       "      <td>19.4</td>\n",
       "      <td>39.8k</td>\n",
       "    </tr>\n",
       "    <tr>\n",
       "      <th>17741</th>\n",
       "      <td>Yemen</td>\n",
       "      <td>2040</td>\n",
       "      <td>42.7M</td>\n",
       "      <td>80.8</td>\n",
       "      <td>3870</td>\n",
       "    </tr>\n",
       "    <tr>\n",
       "      <th>13390</th>\n",
       "      <td>Nepal</td>\n",
       "      <td>2018</td>\n",
       "      <td>28.1M</td>\n",
       "      <td>196</td>\n",
       "      <td>2720</td>\n",
       "    </tr>\n",
       "  </tbody>\n",
       "</table>\n",
       "</div>"
      ],
      "text/plain": [
       "              country  year population density income\n",
       "6886   United Kingdom  1985      56.4M     233  22.9k\n",
       "15056            Cuba  2027      11.2M     105  10.1k\n",
       "15342     New Zealand  2028      5.11M    19.4  39.8k\n",
       "17741           Yemen  2040      42.7M    80.8   3870\n",
       "13390           Nepal  2018      28.1M     196   2720"
      ]
     },
     "execution_count": 39,
     "metadata": {},
     "output_type": "execute_result"
    }
   ],
   "source": [
    "#display sample of five rows of the dataset\n",
    "dataset.sample(5)"
   ]
  },
  {
   "cell_type": "markdown",
   "id": "5871a6a5",
   "metadata": {},
   "source": [
    "I noted that *population, density and income* columns contain values that cannot be changed to int.\n",
    "These values are located as the last symbol of an indicator. We need to deal with them."
   ]
  },
  {
   "cell_type": "code",
   "execution_count": 40,
   "id": "ec05ede7",
   "metadata": {},
   "outputs": [
    {
     "data": {
      "text/plain": [
       "array(['M', '0', 'k', 'B'], dtype=object)"
      ]
     },
     "execution_count": 40,
     "metadata": {},
     "output_type": "execute_result"
    }
   ],
   "source": [
    "\n",
    "#create list of unique last symbols of the indicator in each row\n",
    "last_pop = dataset['population'].str.strip().str[-1]\n",
    "last_pop.unique()"
   ]
  },
  {
   "cell_type": "code",
   "execution_count": 41,
   "id": "dcf7feba",
   "metadata": {},
   "outputs": [
    {
     "data": {
      "text/plain": [
       "array(['9', '5', '1', '2', '3', '6', '4', '0', '7', '8', 'k'],\n",
       "      dtype=object)"
      ]
     },
     "execution_count": 41,
     "metadata": {},
     "output_type": "execute_result"
    }
   ],
   "source": [
    "#create list of unique last symbols of the indicator in each row\n",
    "last_den = dataset['density'].str.strip().str[-1]\n",
    "last_den.unique()"
   ]
  },
  {
   "cell_type": "code",
   "execution_count": 42,
   "id": "3fa484fc",
   "metadata": {},
   "outputs": [
    {
     "data": {
      "text/plain": [
       "array(['0', 'k', '6', '7', '8', '9', '2', '4', '5', '3', '1'],\n",
       "      dtype=object)"
      ]
     },
     "execution_count": 42,
     "metadata": {},
     "output_type": "execute_result"
    }
   ],
   "source": [
    "#create list of unique last symbols of the indicator in each row\n",
    "last_inc = dataset['income'].str.strip().str[-1]\n",
    "last_inc.unique()"
   ]
  },
  {
   "cell_type": "code",
   "execution_count": 43,
   "id": "e6eba765",
   "metadata": {},
   "outputs": [],
   "source": [
    "#replace symbols k, M, B  and change type of columns 'population', 'density', 'income' to integers\n",
    "#I added for loop to the code taken from stackoverflow.com from user \"cs95\"\n",
    "columns = ['population', 'density', 'income']\n",
    "for column in columns:\n",
    "    dataset[column] = dataset[column].replace({'k': '*1e3', 'M': '*1e6', 'B': '*1e9'}, regex=True).map(pd.eval).astype(int)"
   ]
  },
  {
   "cell_type": "code",
   "execution_count": 44,
   "id": "ee10b22a",
   "metadata": {},
   "outputs": [
    {
     "name": "stdout",
     "output_type": "stream",
     "text": [
      "<class 'pandas.core.frame.DataFrame'>\n",
      "Int64Index: 17745 entries, 0 to 17744\n",
      "Data columns (total 5 columns):\n",
      " #   Column      Non-Null Count  Dtype \n",
      "---  ------      --------------  ----- \n",
      " 0   country     17745 non-null  object\n",
      " 1   year        17745 non-null  object\n",
      " 2   population  17745 non-null  int32 \n",
      " 3   density     17745 non-null  int32 \n",
      " 4   income      17745 non-null  int32 \n",
      "dtypes: int32(3), object(2)\n",
      "memory usage: 623.8+ KB\n"
     ]
    }
   ],
   "source": [
    "#check the dataset\n",
    "dataset.info()"
   ]
  },
  {
   "cell_type": "code",
   "execution_count": 45,
   "id": "9d0b2305",
   "metadata": {},
   "outputs": [
    {
     "data": {
      "text/html": [
       "<div>\n",
       "<style scoped>\n",
       "    .dataframe tbody tr th:only-of-type {\n",
       "        vertical-align: middle;\n",
       "    }\n",
       "\n",
       "    .dataframe tbody tr th {\n",
       "        vertical-align: top;\n",
       "    }\n",
       "\n",
       "    .dataframe thead th {\n",
       "        text-align: right;\n",
       "    }\n",
       "</style>\n",
       "<table border=\"1\" class=\"dataframe\">\n",
       "  <thead>\n",
       "    <tr style=\"text-align: right;\">\n",
       "      <th></th>\n",
       "      <th>country</th>\n",
       "      <th>year</th>\n",
       "      <th>population</th>\n",
       "      <th>density</th>\n",
       "      <th>income</th>\n",
       "    </tr>\n",
       "  </thead>\n",
       "  <tbody>\n",
       "    <tr>\n",
       "      <th>0</th>\n",
       "      <td>Afghanistan</td>\n",
       "      <td>1950</td>\n",
       "      <td>7750000</td>\n",
       "      <td>11</td>\n",
       "      <td>2390</td>\n",
       "    </tr>\n",
       "    <tr>\n",
       "      <th>1</th>\n",
       "      <td>Angola</td>\n",
       "      <td>1950</td>\n",
       "      <td>4550000</td>\n",
       "      <td>3</td>\n",
       "      <td>3180</td>\n",
       "    </tr>\n",
       "    <tr>\n",
       "      <th>2</th>\n",
       "      <td>Albania</td>\n",
       "      <td>1950</td>\n",
       "      <td>1260000</td>\n",
       "      <td>46</td>\n",
       "      <td>1780</td>\n",
       "    </tr>\n",
       "    <tr>\n",
       "      <th>3</th>\n",
       "      <td>Andorra</td>\n",
       "      <td>1950</td>\n",
       "      <td>6200</td>\n",
       "      <td>13</td>\n",
       "      <td>6980</td>\n",
       "    </tr>\n",
       "    <tr>\n",
       "      <th>4</th>\n",
       "      <td>United Arab Emirates</td>\n",
       "      <td>1950</td>\n",
       "      <td>69600</td>\n",
       "      <td>0</td>\n",
       "      <td>1210</td>\n",
       "    </tr>\n",
       "  </tbody>\n",
       "</table>\n",
       "</div>"
      ],
      "text/plain": [
       "                country  year  population  density  income\n",
       "0           Afghanistan  1950     7750000       11    2390\n",
       "1                Angola  1950     4550000        3    3180\n",
       "2               Albania  1950     1260000       46    1780\n",
       "3               Andorra  1950        6200       13    6980\n",
       "4  United Arab Emirates  1950       69600        0    1210"
      ]
     },
     "execution_count": 45,
     "metadata": {},
     "output_type": "execute_result"
    }
   ],
   "source": [
    "#display first five rows\n",
    "dataset.head()"
   ]
  },
  {
   "cell_type": "code",
   "execution_count": 46,
   "id": "e008a6da",
   "metadata": {},
   "outputs": [
    {
     "data": {
      "text/html": [
       "<div>\n",
       "<style scoped>\n",
       "    .dataframe tbody tr th:only-of-type {\n",
       "        vertical-align: middle;\n",
       "    }\n",
       "\n",
       "    .dataframe tbody tr th {\n",
       "        vertical-align: top;\n",
       "    }\n",
       "\n",
       "    .dataframe thead th {\n",
       "        text-align: right;\n",
       "    }\n",
       "</style>\n",
       "<table border=\"1\" class=\"dataframe\">\n",
       "  <thead>\n",
       "    <tr style=\"text-align: right;\">\n",
       "      <th></th>\n",
       "      <th>country</th>\n",
       "      <th>year</th>\n",
       "      <th>population</th>\n",
       "      <th>density</th>\n",
       "      <th>income</th>\n",
       "    </tr>\n",
       "  </thead>\n",
       "  <tbody>\n",
       "    <tr>\n",
       "      <th>17740</th>\n",
       "      <td>Samoa</td>\n",
       "      <td>2040</td>\n",
       "      <td>244000</td>\n",
       "      <td>86</td>\n",
       "      <td>9150</td>\n",
       "    </tr>\n",
       "    <tr>\n",
       "      <th>17741</th>\n",
       "      <td>Yemen</td>\n",
       "      <td>2040</td>\n",
       "      <td>42700000</td>\n",
       "      <td>80</td>\n",
       "      <td>3870</td>\n",
       "    </tr>\n",
       "    <tr>\n",
       "      <th>17742</th>\n",
       "      <td>South Africa</td>\n",
       "      <td>2040</td>\n",
       "      <td>71400000</td>\n",
       "      <td>58</td>\n",
       "      <td>15600</td>\n",
       "    </tr>\n",
       "    <tr>\n",
       "      <th>17743</th>\n",
       "      <td>Zambia</td>\n",
       "      <td>2040</td>\n",
       "      <td>31300000</td>\n",
       "      <td>42</td>\n",
       "      <td>4180</td>\n",
       "    </tr>\n",
       "    <tr>\n",
       "      <th>17744</th>\n",
       "      <td>Zimbabwe</td>\n",
       "      <td>2040</td>\n",
       "      <td>20900000</td>\n",
       "      <td>53</td>\n",
       "      <td>3140</td>\n",
       "    </tr>\n",
       "  </tbody>\n",
       "</table>\n",
       "</div>"
      ],
      "text/plain": [
       "            country  year  population  density  income\n",
       "17740         Samoa  2040      244000       86    9150\n",
       "17741         Yemen  2040    42700000       80    3870\n",
       "17742  South Africa  2040    71400000       58   15600\n",
       "17743        Zambia  2040    31300000       42    4180\n",
       "17744      Zimbabwe  2040    20900000       53    3140"
      ]
     },
     "execution_count": 46,
     "metadata": {},
     "output_type": "execute_result"
    }
   ],
   "source": [
    "#display last five rows\n",
    "dataset.tail()"
   ]
  },
  {
   "cell_type": "markdown",
   "id": "e79044f7",
   "metadata": {},
   "source": [
    "The dataset contains data from 1950 till 2040. It is assumed that from 2011 till 2040 all value are estimated and these estimations are reliable."
   ]
  },
  {
   "cell_type": "code",
   "execution_count": 47,
   "id": "5fdd3fec",
   "metadata": {},
   "outputs": [
    {
     "name": "stdout",
     "output_type": "stream",
     "text": [
      "<class 'pandas.core.frame.DataFrame'>\n",
      "Int64Index: 17745 entries, 0 to 17744\n",
      "Data columns (total 5 columns):\n",
      " #   Column      Non-Null Count  Dtype \n",
      "---  ------      --------------  ----- \n",
      " 0   country     17745 non-null  object\n",
      " 1   year        17745 non-null  object\n",
      " 2   population  17745 non-null  int32 \n",
      " 3   density     17745 non-null  int32 \n",
      " 4   income      17745 non-null  int32 \n",
      "dtypes: int32(3), object(2)\n",
      "memory usage: 623.8+ KB\n"
     ]
    }
   ],
   "source": [
    "#check if there is any NaN values in the dataset\n",
    "dataset.info()"
   ]
  },
  {
   "cell_type": "code",
   "execution_count": 48,
   "id": "7f1c3357",
   "metadata": {},
   "outputs": [
    {
     "data": {
      "text/plain": [
       "0"
      ]
     },
     "execution_count": 48,
     "metadata": {},
     "output_type": "execute_result"
    }
   ],
   "source": [
    "#Check if there are any duplicates\n",
    "sum(dataset.duplicated())\n"
   ]
  },
  {
   "cell_type": "markdown",
   "id": "cb34a08b",
   "metadata": {},
   "source": [
    "Now data is clean and ready for exploratory analysis"
   ]
  },
  {
   "cell_type": "markdown",
   "id": "f2cd11b6",
   "metadata": {},
   "source": [
    "<a id='eda'></a>\n",
    "## Exploratory data analysis"
   ]
  },
  {
   "cell_type": "markdown",
   "id": "4bfd1516",
   "metadata": {},
   "source": [
    "### Which are the countries with lower density of population and higher income per person over time?"
   ]
  },
  {
   "cell_type": "markdown",
   "id": "d4f9a6e5",
   "metadata": {},
   "source": [
    "To approach this question I decided to take average income and average density by country over the years.\n",
    "Then I took 90% quantile of average income by country and average population density by country to display  \n",
    "__top__ countries with lower population density and higher income."
   ]
  },
  {
   "cell_type": "code",
   "execution_count": 49,
   "id": "c5bb451f",
   "metadata": {},
   "outputs": [],
   "source": [
    "#create new dataframe with average income and average density grouped by country\n",
    "inc_den = dataset.groupby(['country']).agg({'income': 'mean', 'density' : 'mean'}).reset_index()"
   ]
  },
  {
   "cell_type": "code",
   "execution_count": 50,
   "id": "4b5adb36",
   "metadata": {},
   "outputs": [],
   "source": [
    "#find 90% quantile of income column\n",
    "inc_qtl = inc_den['income'].quantile(0.9)\n",
    "#find 90% quantile of density column\n",
    "den_qtl = inc_den['density'].quantile(0.9)\n"
   ]
  },
  {
   "cell_type": "code",
   "execution_count": 51,
   "id": "fca450ba",
   "metadata": {},
   "outputs": [
    {
     "data": {
      "text/html": [
       "<div>\n",
       "<style scoped>\n",
       "    .dataframe tbody tr th:only-of-type {\n",
       "        vertical-align: middle;\n",
       "    }\n",
       "\n",
       "    .dataframe tbody tr th {\n",
       "        vertical-align: top;\n",
       "    }\n",
       "\n",
       "    .dataframe thead th {\n",
       "        text-align: right;\n",
       "    }\n",
       "</style>\n",
       "<table border=\"1\" class=\"dataframe\">\n",
       "  <thead>\n",
       "    <tr style=\"text-align: right;\">\n",
       "      <th></th>\n",
       "      <th>country</th>\n",
       "      <th>income</th>\n",
       "      <th>density</th>\n",
       "    </tr>\n",
       "  </thead>\n",
       "  <tbody>\n",
       "    <tr>\n",
       "      <th>3</th>\n",
       "      <td>Andorra</td>\n",
       "      <td>39323.74</td>\n",
       "      <td>112.45</td>\n",
       "    </tr>\n",
       "    <tr>\n",
       "      <th>24</th>\n",
       "      <td>Brunei</td>\n",
       "      <td>88704.40</td>\n",
       "      <td>53.58</td>\n",
       "    </tr>\n",
       "    <tr>\n",
       "      <th>46</th>\n",
       "      <td>Denmark</td>\n",
       "      <td>36696.70</td>\n",
       "      <td>124.92</td>\n",
       "    </tr>\n",
       "    <tr>\n",
       "      <th>64</th>\n",
       "      <td>Germany</td>\n",
       "      <td>34596.15</td>\n",
       "      <td>227.78</td>\n",
       "    </tr>\n",
       "    <tr>\n",
       "      <th>81</th>\n",
       "      <td>Ireland</td>\n",
       "      <td>40147.14</td>\n",
       "      <td>56.48</td>\n",
       "    </tr>\n",
       "    <tr>\n",
       "      <th>90</th>\n",
       "      <td>Kuwait</td>\n",
       "      <td>63131.85</td>\n",
       "      <td>130.20</td>\n",
       "    </tr>\n",
       "    <tr>\n",
       "      <th>99</th>\n",
       "      <td>Luxembourg</td>\n",
       "      <td>63101.10</td>\n",
       "      <td>179.26</td>\n",
       "    </tr>\n",
       "    <tr>\n",
       "      <th>128</th>\n",
       "      <td>Norway</td>\n",
       "      <td>50149.43</td>\n",
       "      <td>12.12</td>\n",
       "    </tr>\n",
       "    <tr>\n",
       "      <th>140</th>\n",
       "      <td>Qatar</td>\n",
       "      <td>103661.21</td>\n",
       "      <td>108.18</td>\n",
       "    </tr>\n",
       "    <tr>\n",
       "      <th>147</th>\n",
       "      <td>Saudi Arabia</td>\n",
       "      <td>43062.64</td>\n",
       "      <td>8.90</td>\n",
       "    </tr>\n",
       "    <tr>\n",
       "      <th>167</th>\n",
       "      <td>Sweden</td>\n",
       "      <td>34665.92</td>\n",
       "      <td>21.32</td>\n",
       "    </tr>\n",
       "    <tr>\n",
       "      <th>168</th>\n",
       "      <td>Switzerland</td>\n",
       "      <td>48087.90</td>\n",
       "      <td>181.12</td>\n",
       "    </tr>\n",
       "    <tr>\n",
       "      <th>184</th>\n",
       "      <td>United Arab Emirates</td>\n",
       "      <td>71549.64</td>\n",
       "      <td>53.05</td>\n",
       "    </tr>\n",
       "    <tr>\n",
       "      <th>186</th>\n",
       "      <td>United States</td>\n",
       "      <td>41491.21</td>\n",
       "      <td>28.86</td>\n",
       "    </tr>\n",
       "  </tbody>\n",
       "</table>\n",
       "</div>"
      ],
      "text/plain": [
       "                  country    income  density\n",
       "3                 Andorra  39323.74   112.45\n",
       "24                 Brunei  88704.40    53.58\n",
       "46                Denmark  36696.70   124.92\n",
       "64                Germany  34596.15   227.78\n",
       "81                Ireland  40147.14    56.48\n",
       "90                 Kuwait  63131.85   130.20\n",
       "99             Luxembourg  63101.10   179.26\n",
       "128                Norway  50149.43    12.12\n",
       "140                 Qatar 103661.21   108.18\n",
       "147          Saudi Arabia  43062.64     8.90\n",
       "167                Sweden  34665.92    21.32\n",
       "168           Switzerland  48087.90   181.12\n",
       "184  United Arab Emirates  71549.64    53.05\n",
       "186         United States  41491.21    28.86"
      ]
     },
     "execution_count": 51,
     "metadata": {},
     "output_type": "execute_result"
    }
   ],
   "source": [
    "#filter dataframe inc_den by income 90% quantinle and density 90% quantile\n",
    "que1 = inc_den.query('income > {} & density < {}'.format(inc_qtl, den_qtl))\n",
    "#display the results\n",
    "que1"
   ]
  },
  {
   "cell_type": "code",
   "execution_count": 52,
   "id": "3cccbdf7",
   "metadata": {},
   "outputs": [],
   "source": [
    "#Set up styles for the graphs globally\n",
    "sb.set_style('whitegrid') # darkgrid, white grid, dark, white and ticks\n",
    "plt.rc('axes', titlesize=13)     # fontsize of the axes title\n",
    "plt.rc('axes', labelsize=12)    # fontsize of the x and y labels\n",
    "plt.rc('xtick', labelsize=11)    # fontsize of the tick labels\n",
    "plt.rc('ytick', labelsize=11)    # fontsize of the tick labels\n",
    "plt.rc('legend', fontsize=11)    # legend fontsize\n",
    "plt.rc('font', size=1)  "
   ]
  },
  {
   "cell_type": "markdown",
   "id": "a58c9e10",
   "metadata": {},
   "source": [
    "Further, I wanted to plot income by country and density of poputlation by country. To do that, I will use bar plots with average quantitative variables on the x axis and nominal categorical variable on y axis. Since I am dealing with nominal categorical variables, I want them to be plotted in order of values of quantitative variables."
   ]
  },
  {
   "cell_type": "code",
   "execution_count": 152,
   "id": "ad8ba650",
   "metadata": {},
   "outputs": [],
   "source": [
    "#Set up orders for next two plots\n",
    "order_income = que1.sort_values('income', axis = 0, ascending = False)\n",
    "order_income = list(order_income['country'])\n",
    "order_density = que1.sort_values('density', axis = 0, ascending = False)\n",
    "order_density = list(order_density['country'])"
   ]
  },
  {
   "cell_type": "code",
   "execution_count": 153,
   "id": "45a4e4d6",
   "metadata": {},
   "outputs": [
    {
     "data": {
      "image/png": "[encoded data removed]",
      "text/plain": [
       "<Figure size 864x576 with 2 Axes>"
      ]
     },
     "metadata": {},
     "output_type": "display_data"
    }
   ],
   "source": [
    "#display two plots: one for income by countries and the other for density by countries\n",
    "plt.figure(figsize=(12,8), tight_layout=True)\n",
    "plt.subplot(2,1,1)\n",
    "sb.barplot(data = que1, x = 'income', y = 'country', order = order_income, color = '#1FBC47')\n",
    "plt.title('Average Income by Country taking into account the Density of Population')\n",
    "ticks = [0, 10000, 20000, 30000, 40000, 50000, 60000, 70000, 80000, 90000, 100000, 110000]\n",
    "labels = ['$0', '$10k', '$20k', '$30k', '$40k', '$50k', '$60k', '$70k', '$80k', '$90k', '$100k', '$110k']\n",
    "plt.ylabel('')\n",
    "plt.xlabel('Average Income')\n",
    "plt.xticks(ticks, labels);\n",
    "plt.subplot(2,1,2)\n",
    "sb.barplot(data = que1, x = 'density', y = 'country', order = order_density, color = '#1F2DBC')\n",
    "plt.title('Average Density of Population by Country taking into account Average Income')\n",
    "ticks = [0, 20, 40, 60, 80, 100, 120, 140, 160, 180, 200, 220]\n",
    "labels = [0, 20, 40, 60, 80, 100, 120, 140, 160, 180, 200, 220]\n",
    "plt.ylabel('')\n",
    "plt.xlabel('Average density, people per sq. km')\n",
    "plt.xticks(ticks, labels);"
   ]
  },
  {
   "cell_type": "markdown",
   "id": "648da4f9",
   "metadata": {},
   "source": [
    "People from Qatar earn the most from the countries with lower density of population, followed by Brunei and United Arab Emirates"
   ]
  },
  {
   "cell_type": "markdown",
   "id": "7098ba7e",
   "metadata": {},
   "source": [
    "Saudi Arabia has the lowest density of population among countries with higher income per person, followed by Norway and Sweden"
   ]
  },
  {
   "cell_type": "markdown",
   "id": "24cceada",
   "metadata": {},
   "source": [
    "### Is there a correlation between density of population and income per person? "
   ]
  },
  {
   "cell_type": "markdown",
   "id": "88edaa43",
   "metadata": {},
   "source": [
    "Let's take a look at distribution of individual variables first and then create a scatter plot to see if there is a correlation between density of population and income per person"
   ]
  },
  {
   "cell_type": "code",
   "execution_count": 177,
   "id": "c3c94424",
   "metadata": {},
   "outputs": [
    {
     "data": {
      "image/png": "[encoded data removed]",
      "text/plain": [
       "<Figure size 864x288 with 1 Axes>"
      ]
     },
     "metadata": {},
     "output_type": "display_data"
    }
   ],
   "source": [
    "# start with a standard-scaled plot\n",
    "plt.figure(figsize=(12,4), tight_layout=True)\n",
    "sb.histplot(data = dataset, x ='income', color = '#327692', edgecolor = 'black',\n",
    "                 linewidth = 0.5);"
   ]
  },
  {
   "cell_type": "markdown",
   "id": "1be380ce",
   "metadata": {},
   "source": [
    "\n",
    "There's a long tail in the distribution, so let's put it on a log scale instead"
   ]
  },
  {
   "cell_type": "code",
   "execution_count": 178,
   "id": "f25dcb74",
   "metadata": {},
   "outputs": [
    {
     "data": {
      "text/plain": [
       "count   17745.00\n",
       "mean        3.84\n",
       "std         0.54\n",
       "min         2.49\n",
       "25%         3.41\n",
       "50%         3.83\n",
       "75%         4.26\n",
       "max         5.25\n",
       "Name: income, dtype: float64"
      ]
     },
     "execution_count": 178,
     "metadata": {},
     "output_type": "execute_result"
    }
   ],
   "source": [
    "#Statistics for log10 Income column\n",
    "np.log10(dataset.income).describe()"
   ]
  },
  {
   "cell_type": "code",
   "execution_count": 179,
   "id": "76dce5a2",
   "metadata": {},
   "outputs": [],
   "source": [
    "#Create bins for the histplot\n",
    "bins = 10 ** np.arange(2.49, 5.25+0.05, 0.025)"
   ]
  },
  {
   "cell_type": "code",
   "execution_count": 180,
   "id": "c1122572",
   "metadata": {},
   "outputs": [
    {
     "data": {
      "image/png": "[encoded data removed]",
      "text/plain": [
       "<Figure size 864x288 with 1 Axes>"
      ]
     },
     "metadata": {},
     "output_type": "display_data"
    }
   ],
   "source": [
    "#Display a distribution on a log scale\n",
    "plt.figure(figsize=(12,4), tight_layout=True)\n",
    "sb.histplot(data = dataset, x ='income', bins = bins, color = '#327692', edgecolor = 'black',\n",
    "                 linewidth = 0.5)\n",
    "ticks = [300, 1000, 3000, 10000, 30000, 100000]\n",
    "labels = [300, 1000, 3000, 10000, 30000, 100000]\n",
    "plt.xscale('log')\n",
    "plt.xticks(ticks, labels)\n",
    "plt.axvline(1000, color = 'r');\n",
    "plt.axvline(50000, color = 'r');"
   ]
  },
  {
   "cell_type": "markdown",
   "id": "10878aa1",
   "metadata": {},
   "source": [
    "Visually, we can note that most of the data on income falls within range from 1000 to 50000. I highlighted edges with vertical red line."
   ]
  },
  {
   "cell_type": "code",
   "execution_count": 184,
   "id": "8471245b",
   "metadata": {},
   "outputs": [
    {
     "data": {
      "image/png": "[encoded data removed]",
      "text/plain": [
       "<Figure size 864x288 with 1 Axes>"
      ]
     },
     "metadata": {},
     "output_type": "display_data"
    }
   ],
   "source": [
    "# Plot a distribution of density of population.\n",
    "plt.figure(figsize=(12,4), tight_layout=True)\n",
    "sb.histplot(data = dataset, x ='density', color = '#327692');\n"
   ]
  },
  {
   "cell_type": "markdown",
   "id": "4ef0b559",
   "metadata": {},
   "source": [
    "Here, I see a long tail as well and I will put the x axis on a log scale in order to make the distribution visible"
   ]
  },
  {
   "cell_type": "code",
   "execution_count": 185,
   "id": "fc9747a2",
   "metadata": {},
   "outputs": [
    {
     "name": "stderr",
     "output_type": "stream",
     "text": [
      "C:\\Users\\averi\\anaconda3\\lib\\site-packages\\pandas\\core\\arraylike.py:358: RuntimeWarning: divide by zero encountered in log10\n",
      "  result = getattr(ufunc, method)(*inputs, **kwargs)\n"
     ]
    },
    {
     "data": {
      "text/plain": [
       "count   17745.00\n",
       "mean        -inf\n",
       "std          NaN\n",
       "min         -inf\n",
       "25%         1.28\n",
       "50%         1.81\n",
       "75%         2.15\n",
       "max         4.47\n",
       "Name: density, dtype: float64"
      ]
     },
     "execution_count": 185,
     "metadata": {},
     "output_type": "execute_result"
    }
   ],
   "source": [
    "#Display Statistics for bins\n",
    "np.log10(dataset.density).describe()"
   ]
  },
  {
   "cell_type": "code",
   "execution_count": 186,
   "id": "c914384a",
   "metadata": {},
   "outputs": [],
   "source": [
    "#Store bins in a variable\n",
    "bins_den =10 ** np.arange(1, 4.47+0.03, 0.03)"
   ]
  },
  {
   "cell_type": "code",
   "execution_count": null,
   "id": "fd4fa1a7",
   "metadata": {},
   "outputs": [],
   "source": []
  },
  {
   "cell_type": "code",
   "execution_count": 187,
   "id": "1b35f4f8",
   "metadata": {},
   "outputs": [
    {
     "data": {
      "image/png": "[encoded data removed]",
      "text/plain": [
       "<Figure size 864x288 with 1 Axes>"
      ]
     },
     "metadata": {},
     "output_type": "display_data"
    }
   ],
   "source": [
    "#Display a hist plot with log scale on x axis\n",
    "plt.figure(figsize=(12,4), tight_layout=True)\n",
    "sb.histplot(data = dataset, x ='density', bins = bins_den, color = '#327692', edgecolor = 'black',\n",
    "                 linewidth = 0.5)\n",
    "ticks = [10, 30, 100, 300, 1000, 3000, 10000, 30000]\n",
    "labels = [10, 30, 100, 300, 1000, 3000, 10000, 30000]\n",
    "plt.xscale('log')\n",
    "plt.xticks(ticks, labels)\n",
    "plt.axvline(10, color = 'r')\n",
    "plt.axvline(650, color = 'r');"
   ]
  },
  {
   "cell_type": "markdown",
   "id": "176f93cb",
   "metadata": {},
   "source": [
    "From the hist above we can see that population density falls within range from 10 to 650. I highlighted edges with vertical red line."
   ]
  },
  {
   "cell_type": "markdown",
   "id": "883a01b2",
   "metadata": {},
   "source": [
    "Despite income data ranges from 0 to 175000 and density data ranges from 0 to 30000, most of the data falls within range from 0 to 50000 and from 0 to 650 respectively. Let's include only those ranges into line plot."
   ]
  },
  {
   "cell_type": "code",
   "execution_count": 188,
   "id": "fe406f87",
   "metadata": {},
   "outputs": [
    {
     "data": {
      "text/plain": [
       "count   16297.00\n",
       "mean       98.82\n",
       "std       118.94\n",
       "min         0.00\n",
       "25%        18.00\n",
       "50%        58.00\n",
       "75%       123.00\n",
       "max       650.00\n",
       "Name: density, dtype: float64"
      ]
     },
     "execution_count": 188,
     "metadata": {},
     "output_type": "execute_result"
    }
   ],
   "source": [
    "#Create filtered dataframe\n",
    "density = dataset.query('density <= 650 & income <= 50000' )\n",
    "density.density.describe()"
   ]
  },
  {
   "cell_type": "code",
   "execution_count": 189,
   "id": "62b44edf",
   "metadata": {},
   "outputs": [],
   "source": [
    "#Create positioning on x axis\n",
    "xbin_edges = np.arange(0, 650 + 10, 10)\n",
    "xbin_centers = xbin_edges[:-1] +5\n",
    "den_binned = pd.cut(density['density'], xbin_edges, include_lowest = True)"
   ]
  },
  {
   "cell_type": "code",
   "execution_count": 190,
   "id": "fd3d78b4",
   "metadata": {},
   "outputs": [],
   "source": [
    "#Create positioning on y axis\n",
    "income_mean = density['income'].groupby(den_binned).mean()"
   ]
  },
  {
   "cell_type": "code",
   "execution_count": 191,
   "id": "266bddbe",
   "metadata": {},
   "outputs": [
    {
     "data": {
      "image/png": "[encoded data removed]",
      "text/plain": [
       "<Figure size 864x288 with 1 Axes>"
      ]
     },
     "metadata": {},
     "output_type": "display_data"
    }
   ],
   "source": [
    "#Create a lineplot to depict interaction between income and density\n",
    "plt.figure(figsize=(12,4), tight_layout=True)\n",
    "sb.lineplot(x = xbin_centers, y = income_mean, lw = 2, color = '#323792')\n",
    "plt.title('Average Income by Density of Population')\n",
    "plt.xlabel('Density of Population, people per sq. km')\n",
    "plt.ylabel('Average Income, $')\n",
    "plt.grid(axis='x')\n",
    "#Create a line of best fit\n",
    "z = np.polyfit(xbin_centers, income_mean, 1)\n",
    "p = np.poly1d(z)\n",
    "plt.plot(xbin_centers,p(xbin_centers),\"r--\");"
   ]
  },
  {
   "cell_type": "markdown",
   "id": "ab0c5e43",
   "metadata": {},
   "source": [
    "This scatter plot shows us upward trend, which means that there may be a correlation between density of population and income"
   ]
  },
  {
   "cell_type": "code",
   "execution_count": 195,
   "id": "926e147c",
   "metadata": {},
   "outputs": [
    {
     "data": {
      "text/plain": [
       "0.423670426980471"
      ]
     },
     "execution_count": 195,
     "metadata": {},
     "output_type": "execute_result"
    }
   ],
   "source": [
    "#display correlation coefficient\n",
    "r = np.corrcoef(xbin_centers, income_mean)\n",
    "r[0,1]"
   ]
  },
  {
   "cell_type": "markdown",
   "id": "4bcaa52d",
   "metadata": {},
   "source": [
    "The correlation coefficient is 42% which can be considered as a moderate correlation."
   ]
  },
  {
   "cell_type": "markdown",
   "id": "9b21653d",
   "metadata": {},
   "source": [
    "###  By how much population of the plantet  has increased since 1950?"
   ]
  },
  {
   "cell_type": "code",
   "execution_count": 193,
   "id": "eab68e14",
   "metadata": {},
   "outputs": [
    {
     "data": {
      "text/html": [
       "<div>\n",
       "<style scoped>\n",
       "    .dataframe tbody tr th:only-of-type {\n",
       "        vertical-align: middle;\n",
       "    }\n",
       "\n",
       "    .dataframe tbody tr th {\n",
       "        vertical-align: top;\n",
       "    }\n",
       "\n",
       "    .dataframe thead th {\n",
       "        text-align: right;\n",
       "    }\n",
       "</style>\n",
       "<table border=\"1\" class=\"dataframe\">\n",
       "  <thead>\n",
       "    <tr style=\"text-align: right;\">\n",
       "      <th></th>\n",
       "      <th>population</th>\n",
       "    </tr>\n",
       "  </thead>\n",
       "  <tbody>\n",
       "    <tr>\n",
       "      <th>count</th>\n",
       "      <td>91.00</td>\n",
       "    </tr>\n",
       "    <tr>\n",
       "      <th>mean</th>\n",
       "      <td>5750929232.44</td>\n",
       "    </tr>\n",
       "    <tr>\n",
       "      <th>std</th>\n",
       "      <td>2070694675.16</td>\n",
       "    </tr>\n",
       "    <tr>\n",
       "      <th>min</th>\n",
       "      <td>2531899140.00</td>\n",
       "    </tr>\n",
       "    <tr>\n",
       "      <th>25%</th>\n",
       "      <td>3883796969.00</td>\n",
       "    </tr>\n",
       "    <tr>\n",
       "      <th>50%</th>\n",
       "      <td>5735213400.00</td>\n",
       "    </tr>\n",
       "    <tr>\n",
       "      <th>75%</th>\n",
       "      <td>7581256846.50</td>\n",
       "    </tr>\n",
       "    <tr>\n",
       "      <th>max</th>\n",
       "      <td>9188958599.00</td>\n",
       "    </tr>\n",
       "  </tbody>\n",
       "</table>\n",
       "</div>"
      ],
      "text/plain": [
       "         population\n",
       "count         91.00\n",
       "mean  5750929232.44\n",
       "std   2070694675.16\n",
       "min   2531899140.00\n",
       "25%   3883796969.00\n",
       "50%   5735213400.00\n",
       "75%   7581256846.50\n",
       "max   9188958599.00"
      ]
     },
     "execution_count": 193,
     "metadata": {},
     "output_type": "execute_result"
    }
   ],
   "source": [
    "#create dataframe for total population over time\n",
    "pop_incr = dataset.groupby(['year'])['population'].sum().reset_index()\n",
    "#display main characteristics of pop_incr dataframe\n",
    "pop_incr.describe()"
   ]
  },
  {
   "cell_type": "markdown",
   "id": "7e7c1821",
   "metadata": {},
   "source": [
    "The summary statistics displays main features of pop_incr dataframe, with minimum total population of 2bln and maximum population in a particular year of 9bln."
   ]
  },
  {
   "cell_type": "code",
   "execution_count": 175,
   "id": "d2c08f21",
   "metadata": {},
   "outputs": [],
   "source": [
    "#Create a list to be included in text on the line plot\n",
    "s = pop_incr[pop_incr['year'].isin(xlabels)]\n",
    "s_list = list(s.population)"
   ]
  },
  {
   "cell_type": "code",
   "execution_count": 176,
   "id": "b709a5f4",
   "metadata": {},
   "outputs": [
    {
     "data": {
      "image/png": "[encoded data removed]",
      "text/plain": [
       "<Figure size 864x288 with 1 Axes>"
      ]
     },
     "metadata": {},
     "output_type": "display_data"
    }
   ],
   "source": [
    "#create line chart to displaty increase in population over time\n",
    "plt.figure(figsize=(12,4), tight_layout=True)\n",
    "sb.lineplot(data = pop_incr, x = 'year', y = 'population', lw = 3, color = '#4AD174')\n",
    "xticks = [0,10,20,30,40,50,60,70,80,90]\n",
    "xlabels = ['1950','1960','1970','1980','1990','2000','2010','2020','2030','2040']\n",
    "yticks = [0*1e9, 1*1e9, 2*1e9, 3*1e9, 4*1e9, 5*1e9, 6*1e9, 7*1e9, 8*1e9, 9*1e9]\n",
    "ylabels = [0, '1 bln', '2 bln', '3 bln', '4 bln', '5 bln', '6 bln', '7 bln', '8 bln', '9 bln']\n",
    "plt.title('Increase in population')\n",
    "plt.xlabel('Year')\n",
    "plt.ylabel('Population')\n",
    "plt.xticks(xticks, xlabels)\n",
    "plt.yticks(yticks, ylabels)\n",
    "for i , y in zip(xticks, s_list):\n",
    "    plt.text(i, y+1e9/2,'{:0.2f} bln'.format(y/1e9), fontsize=12)\n",
    "    plt.plot(i, y, 'o', color = '#329250');\n",
    "#plt.grid(axis='x');"
   ]
  },
  {
   "cell_type": "markdown",
   "id": "9bb60b9a",
   "metadata": {},
   "source": [
    "The graph above clearly ilustrates that from 1950 to 2040 population increases, which supports the summary statistics provided earlier in this section."
   ]
  },
  {
   "cell_type": "markdown",
   "id": "24287581",
   "metadata": {},
   "source": [
    "<a id='conclusions'></a>\n",
    "## Conclusions"
   ]
  },
  {
   "cell_type": "markdown",
   "id": "d29fd5ef",
   "metadata": {},
   "source": [
    "In conclusion, we found out which contries have the highest income per person on average and the lowest population density on average. However, the data covers periods from 1950 till 2040, and average value may be not representative. For example, the countries where income is high and density in low only in recent years may be missed in the report.  \n",
    "I expected to see correlation between density of population and level of income, because I assume that people will move to the places with higher income, and therefore there will be higher density of population. However, the explorations showed correlation coefficient between income and density is equal to 0.42, which can be considered as a moderate relationship. The trendline on the scatterplot support this. It seems that density of population is affected by more factors, not just level of income in a particular place.  \n",
    "As expected population of our planet grows. The descriptive statistics says that from 1950 it increased from 2 billions to 9 billions. The line graph in the report clearly demonstrates the phenomena."
   ]
  },
  {
   "cell_type": "markdown",
   "id": "82b3de2f",
   "metadata": {},
   "source": [
    "### Limitations and assumptions"
   ]
  },
  {
   "cell_type": "markdown",
   "id": "a57f6d0c",
   "metadata": {},
   "source": [
    "1. For research question number 2 the data provided may be enhanced by including other factors. For example, difficulties to move to the country with higher income.  \n",
    "2. The dataset includes data till 2040, projected data increase uncertainty, therefore the projected data may be unreliable\n",
    "3. Overall, raw data is well structured with minimum of lines to be droped, which inreases reliability\n",
    "4. In research question number 2, it is not difficult to decide on existing correlations between variables just by looking at scatter plots, however a statistical hypothesis testing is needed."
   ]
  },
  {
   "cell_type": "markdown",
   "id": "97928b1e",
   "metadata": {},
   "source": [
    "### List of resources"
   ]
  },
  {
   "cell_type": "markdown",
   "id": "90ae793e",
   "metadata": {},
   "source": [
    "1. stackoverflow.com\n",
    "2. pandas.pydata.org\n",
    "3. towardsdatascience.com"
   ]
  },
  {
   "cell_type": "code",
   "execution_count": null,
   "id": "ad18d9ea",
   "metadata": {},
   "outputs": [],
   "source": []
  }
 ],
 "metadata": {
  "kernelspec": {
   "display_name": "Python 3",
   "language": "python",
   "name": "python3"
  },
  "language_info": {
   "codemirror_mode": {
    "name": "ipython",
    "version": 3
   },
   "file_extension": ".py",
   "mimetype": "text/x-python",
   "name": "python",
   "nbconvert_exporter": "python",
   "pygments_lexer": "ipython3",
   "version": "3.8.10"
  }
 },
 "nbformat": 4,
 "nbformat_minor": 5
}
